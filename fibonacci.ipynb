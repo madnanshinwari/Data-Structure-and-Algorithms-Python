{
 "cells": [
  {
   "cell_type": "markdown",
   "id": "e141b2ed",
   "metadata": {},
   "source": [
    "## Order of Growth\n",
    "\n",
    "Recall fibonacci series:\n",
    "1,1,2,3,5,8,13.....\n",
    "\n",
    "fib(n) = fib(n-1) + fib(n-2)\n"
   ]
  },
  {
   "cell_type": "code",
   "execution_count": 5,
   "id": "a51e0818",
   "metadata": {},
   "outputs": [],
   "source": [
    "def fib1(n):\n",
    "    if n <=1:\n",
    "        return 1\n",
    "    else:\n",
    "        return fib1(n-2) + fib1(n-1)"
   ]
  },
  {
   "cell_type": "code",
   "execution_count": 8,
   "id": "675d8c66",
   "metadata": {},
   "outputs": [],
   "source": [
    "def fib2(n):\n",
    "    a = 1\n",
    "    b = 2\n",
    "    for i in range(n):\n",
    "        a, b = b, a+b\n",
    "\n",
    "    return a"
   ]
  },
  {
   "cell_type": "code",
   "execution_count": 9,
   "id": "41a6f09a",
   "metadata": {},
   "outputs": [
    {
     "name": "stdout",
     "output_type": "stream",
     "text": [
      "fib1:  \n",
      "1,1,2,3,5,8,13,21,34,55,89,144,233,377,610,987,1597,2584,4181,6765,\n",
      "\n",
      "fib2:  \n",
      "1,2,3,5,8,13,21,34,55,89,144,233,377,610,987,1597,2584,4181,6765,10946,"
     ]
    }
   ],
   "source": [
    "print('fib1:  ')\n",
    "for i in range(20):\n",
    "    print(fib1(i), end=',')\n",
    "\n",
    "print('\\n')\n",
    "print('fib2:  ')\n",
    "for i in range (20):\n",
    "    print(fib2(i), end= ',')"
   ]
  },
  {
   "cell_type": "code",
   "execution_count": null,
   "id": "6a193b9a",
   "metadata": {},
   "outputs": [],
   "source": [
    "# save time for computing a fibonacci series\n",
    "# how to much time taken both functions  \n",
    "\n",
    "import time\n",
    "\n",
    "def compute_times(fn, limit):\n",
    "    l = []\n",
    "\n",
    "    for i in range(limit):\n",
    "        start_time = int(round(time.time()* 1000))\n",
    "\n",
    "        fn(i)\n",
    "\n",
    "        end_time = int(round(time.time() * 1000))\n",
    "        time_taken = end_time - start_time\n",
    "\n",
    "        l.append(time_taken)\n",
    "    return l"
   ]
  },
  {
   "cell_type": "code",
   "execution_count": 12,
   "id": "40f2308d",
   "metadata": {},
   "outputs": [],
   "source": [
    "limit = 30 \n",
    "fib1_times = compute_times(fib1, limit)\n",
    "fib2_times = compute_times(fib2, limit)"
   ]
  },
  {
   "cell_type": "code",
   "execution_count": 13,
   "id": "80c31d0c",
   "metadata": {},
   "outputs": [
    {
     "data": {
      "text/plain": [
       "[0,\n",
       " 0,\n",
       " 0,\n",
       " 0,\n",
       " 0,\n",
       " 0,\n",
       " 0,\n",
       " 0,\n",
       " 0,\n",
       " 0,\n",
       " 0,\n",
       " 0,\n",
       " 1,\n",
       " 0,\n",
       " 0,\n",
       " 1,\n",
       " 1,\n",
       " 1,\n",
       " 1,\n",
       " 1,\n",
       " 5,\n",
       " 10,\n",
       " 23,\n",
       " 29,\n",
       " 52,\n",
       " 135,\n",
       " 172,\n",
       " 100,\n",
       " 117,\n",
       " 223]"
      ]
     },
     "execution_count": 13,
     "metadata": {},
     "output_type": "execute_result"
    }
   ],
   "source": [
    "fib1_times"
   ]
  },
  {
   "cell_type": "code",
   "execution_count": 14,
   "id": "e69045aa",
   "metadata": {},
   "outputs": [
    {
     "data": {
      "text/plain": [
       "[0,\n",
       " 0,\n",
       " 0,\n",
       " 0,\n",
       " 0,\n",
       " 0,\n",
       " 0,\n",
       " 0,\n",
       " 0,\n",
       " 0,\n",
       " 0,\n",
       " 0,\n",
       " 0,\n",
       " 0,\n",
       " 0,\n",
       " 0,\n",
       " 0,\n",
       " 0,\n",
       " 0,\n",
       " 0,\n",
       " 0,\n",
       " 0,\n",
       " 0,\n",
       " 0,\n",
       " 0,\n",
       " 0,\n",
       " 0,\n",
       " 0,\n",
       " 0,\n",
       " 0]"
      ]
     },
     "execution_count": 14,
     "metadata": {},
     "output_type": "execute_result"
    }
   ],
   "source": [
    "fib2_times"
   ]
  },
  {
   "cell_type": "code",
   "execution_count": null,
   "id": "9d57fbc9",
   "metadata": {},
   "outputs": [
    {
     "data": {
      "image/png": "[encoded data removed]",
      "text/plain": [
       "<Figure size 640x480 with 1 Axes>"
      ]
     },
     "metadata": {},
     "output_type": "display_data"
    }
   ],
   "source": [
    "# visualization  time plot\n",
    "import matplotlib.pyplot as plt \n",
    "%matplotlib inline\n",
    "\n",
    "plt.figure()\n",
    "plt.xlabel('fib(n)')\n",
    "plt.ylabel('time (ms)')\n",
    "plt.plot(fib1_times)\n",
    "plt.plot(fib2_times)\n",
    "plt.show()"
   ]
  },
  {
   "cell_type": "code",
   "execution_count": null,
   "id": "b1e4a8ef",
   "metadata": {},
   "outputs": [],
   "source": []
  }
 ],
 "metadata": {
  "kernelspec": {
   "display_name": "Python 3",
   "language": "python",
   "name": "python3"
  },
  "language_info": {
   "codemirror_mode": {
    "name": "ipython",
    "version": 3
   },
   "file_extension": ".py",
   "mimetype": "text/x-python",
   "name": "python",
   "nbconvert_exporter": "python",
   "pygments_lexer": "ipython3",
   "version": "3.13.2"
  }
 },
 "nbformat": 4,
 "nbformat_minor": 5
}
