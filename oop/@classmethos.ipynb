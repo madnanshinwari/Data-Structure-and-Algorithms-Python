{
 "cells": [
  {
   "cell_type": "code",
   "execution_count": 2,
   "id": "c3a9b898",
   "metadata": {},
   "outputs": [
    {
     "name": "stdout",
     "output_type": "stream",
     "text": [
      "Fahad Khan\n"
     ]
    }
   ],
   "source": [
    "class Person:\n",
    "    name = 'adnan'\n",
    "\n",
    "    @classmethod\n",
    "    def change_name(cls, name):\n",
    "        cls.name = name\n",
    "\n",
    "\n",
    "\n",
    "p1 = Person()\n",
    "p1.change_name('Fahad Khan')\n",
    "print(p1.name)"
   ]
  }
 ],
 "metadata": {
  "kernelspec": {
   "display_name": "Python 3",
   "language": "python",
   "name": "python3"
  },
  "language_info": {
   "codemirror_mode": {
    "name": "ipython",
    "version": 3
   },
   "file_extension": ".py",
   "mimetype": "text/x-python",
   "name": "python",
   "nbconvert_exporter": "python",
   "pygments_lexer": "ipython3",
   "version": "3.13.2"
  }
 },
 "nbformat": 4,
 "nbformat_minor": 5
}
