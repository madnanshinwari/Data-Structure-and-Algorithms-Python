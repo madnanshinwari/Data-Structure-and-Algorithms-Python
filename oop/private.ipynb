{
 "cells": [
  {
   "cell_type": "markdown",
   "id": "fd557b6f",
   "metadata": {},
   "source": [
    "### Private Attributes and Methods:\n",
    "private attributes and methods are meant to be used only within the class and are not accessiable from outside the class.\n",
    "- if we want to make a attributes or methods to be private write\n",
    "  double underscore before it e.g: __password."
   ]
  },
  {
   "cell_type": "code",
   "execution_count": null,
   "id": "cc5cb0e8",
   "metadata": {},
   "outputs": [
    {
     "name": "stdout",
     "output_type": "stream",
     "text": [
      "hello!\n",
      "None\n"
     ]
    }
   ],
   "source": [
    "class Account:\n",
    "    user_name = 'adnan'\n",
    "    __password  = 'abcd' # private attribute not access outside the class\n",
    "\n",
    "    def __hello(self): # private method\n",
    "        print('hello!')\n",
    "\n",
    "    def welcome(self):\n",
    "        self.__hello() # access inside the class\n",
    "\n",
    "\n",
    "\n",
    "a1 = Account()\n",
    "#print(a1.__password)\n",
    "print(a1.welcome())"
   ]
  }
 ],
 "metadata": {
  "kernelspec": {
   "display_name": "Python 3",
   "language": "python",
   "name": "python3"
  },
  "language_info": {
   "codemirror_mode": {
    "name": "ipython",
    "version": 3
   },
   "file_extension": ".py",
   "mimetype": "text/x-python",
   "name": "python",
   "nbconvert_exporter": "python",
   "pygments_lexer": "ipython3",
   "version": "3.13.2"
  }
 },
 "nbformat": 4,
 "nbformat_minor": 5
}
