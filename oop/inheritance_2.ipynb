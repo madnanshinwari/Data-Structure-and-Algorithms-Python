{
 "cells": [
  {
   "cell_type": "code",
   "execution_count": 1,
   "id": "d7682d8e",
   "metadata": {},
   "outputs": [],
   "source": [
    "class Rectangle:\n",
    "    def __init__ (self, length, width):\n",
    "        self.length = length\n",
    "        self.width =  width\n",
    "\n",
    "    def area(self):\n",
    "        return self.length  *  self.width\n",
    "    \n",
    "    def perimeter(self):\n",
    "        return  2 * self.length + 2 * self.width\n",
    "    \n",
    "    def  __str__(self):\n",
    "        return \" L:\" + str(self.length) + \" W:\" + str(self.width)"
   ]
  },
  {
   "cell_type": "code",
   "execution_count": 2,
   "id": "31e57d4b",
   "metadata": {},
   "outputs": [
    {
     "name": "stdout",
     "output_type": "stream",
     "text": [
      " L:2 W:4\n"
     ]
    }
   ],
   "source": [
    "rect = Rectangle(2,4)\n",
    "print(rect)"
   ]
  },
  {
   "cell_type": "code",
   "execution_count": 7,
   "id": "1ff76b43",
   "metadata": {},
   "outputs": [],
   "source": [
    "# Declear the Square class inherits from The Rectangle  class\n",
    "class Square(Rectangle):\n",
    "    def  __init__(self, length):\n",
    "        super().__init__(length, length) # super referance parent class\n",
    "    \n",
    "    def __str__(self):\n",
    "        return \"Square: \" + super().__str__()"
   ]
  },
  {
   "cell_type": "code",
   "execution_count": 8,
   "id": "a95fcf8c",
   "metadata": {},
   "outputs": [
    {
     "data": {
      "text/plain": [
       "25"
      ]
     },
     "execution_count": 8,
     "metadata": {},
     "output_type": "execute_result"
    }
   ],
   "source": [
    "square = Square(5)\n",
    "square.area()"
   ]
  },
  {
   "cell_type": "code",
   "execution_count": 9,
   "id": "5eeb84b9",
   "metadata": {},
   "outputs": [
    {
     "name": "stdout",
     "output_type": "stream",
     "text": [
      "Square:  L:5 W:5\n"
     ]
    }
   ],
   "source": [
    "print(square)"
   ]
  },
  {
   "cell_type": "code",
   "execution_count": null,
   "id": "2397c8f2",
   "metadata": {},
   "outputs": [],
   "source": []
  }
 ],
 "metadata": {
  "kernelspec": {
   "display_name": "Python 3",
   "language": "python",
   "name": "python3"
  },
  "language_info": {
   "codemirror_mode": {
    "name": "ipython",
    "version": 3
   },
   "file_extension": ".py",
   "mimetype": "text/x-python",
   "name": "python",
   "nbconvert_exporter": "python",
   "pygments_lexer": "ipython3",
   "version": "3.13.2"
  }
 },
 "nbformat": 4,
 "nbformat_minor": 5
}
