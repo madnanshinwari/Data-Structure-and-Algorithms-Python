{
 "cells": [
  {
   "cell_type": "markdown",
   "id": "82ee3be2",
   "metadata": {},
   "source": [
    "### Polymorphism: \n",
    "When the same operators is Allowed to have different Meaning according to the context."
   ]
  },
  {
   "cell_type": "code",
   "execution_count": null,
   "id": "e04a6098",
   "metadata": {},
   "outputs": [
    {
     "name": "stdout",
     "output_type": "stream",
     "text": [
      "3 i + 5 j\n",
      "8 i + 6 j\n",
      "11 i + 11 j\n"
     ]
    }
   ],
   "source": [
    "class Complex:\n",
    "    def __init__(self, real, img):\n",
    "        self.real = real\n",
    "        self.img = img\n",
    "\n",
    "    def showNumber(self):\n",
    "        print(self.real, \"i +\", self.img, \"j\")\n",
    "    \n",
    "    #Dunder Function (__add__)\n",
    "    def __add__ (self, num2):\n",
    "        newReal = self.real - num2.real\n",
    "        newImg = self.img - num2.img\n",
    "        return Complex(newReal,newImg)\n",
    "    \n",
    "    #Dunder Function (__sub__) #subtraction\n",
    "    def __sub__ (self, num2):\n",
    "        newReal = self.real + num2.real\n",
    "        newImg = self.img + num2.img\n",
    "        return Complex(newReal,newImg)\n",
    "\n",
    "\n",
    "num1 = Complex(3,5)\n",
    "num1.showNumber()\n",
    "\n",
    "num2 = Complex(8,6)\n",
    "num2.showNumber()\n",
    "\n",
    "# pass values to dunder function\n",
    "num3= num1 - num2\n",
    "num3.showNumber()"
   ]
  }
 ],
 "metadata": {
  "kernelspec": {
   "display_name": "Python 3",
   "language": "python",
   "name": "python3"
  },
  "language_info": {
   "codemirror_mode": {
    "name": "ipython",
    "version": 3
   },
   "file_extension": ".py",
   "mimetype": "text/x-python",
   "name": "python",
   "nbconvert_exporter": "python",
   "pygments_lexer": "ipython3",
   "version": "3.13.2"
  }
 },
 "nbformat": 4,
 "nbformat_minor": 5
}
