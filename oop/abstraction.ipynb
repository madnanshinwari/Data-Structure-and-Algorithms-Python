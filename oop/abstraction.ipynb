{
 "cells": [
  {
   "cell_type": "markdown",
   "id": "5aeb505f",
   "metadata": {},
   "source": [
    "## Abstraction:\n",
    "Hiding the Implementation details of a class and only showing \n",
    "the essential (necessary) feactures to the user.\n",
    "\n",
    "- unnecessary feacture Hide from User."
   ]
  },
  {
   "cell_type": "code",
   "execution_count": 1,
   "id": "422e89f0",
   "metadata": {},
   "outputs": [
    {
     "name": "stdout",
     "output_type": "stream",
     "text": [
      "car start....\n"
     ]
    }
   ],
   "source": [
    "class Car:\n",
    "    def __int__(self):\n",
    "        self.acc = False\n",
    "        self.brk = False\n",
    "        self.clutch = False\n",
    "    \n",
    "    def start(self):\n",
    "        self.clutch = True\n",
    "        self.acc = True \n",
    "        print('car start....')\n",
    "\n",
    "c1 = Car()\n",
    "c1.start()"
   ]
  }
 ],
 "metadata": {
  "kernelspec": {
   "display_name": "Python 3",
   "language": "python",
   "name": "python3"
  },
  "language_info": {
   "codemirror_mode": {
    "name": "ipython",
    "version": 3
   },
   "file_extension": ".py",
   "mimetype": "text/x-python",
   "name": "python",
   "nbconvert_exporter": "python",
   "pygments_lexer": "ipython3",
   "version": "3.13.2"
  }
 },
 "nbformat": 4,
 "nbformat_minor": 5
}
