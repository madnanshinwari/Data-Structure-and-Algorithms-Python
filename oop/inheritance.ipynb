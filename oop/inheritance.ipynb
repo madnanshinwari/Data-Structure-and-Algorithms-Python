{
 "cells": [
  {
   "cell_type": "code",
   "execution_count": null,
   "id": "9df07f85",
   "metadata": {},
   "outputs": [
    {
     "name": "stdout",
     "output_type": "stream",
     "text": [
      "fortuner\n",
      "black\n"
     ]
    }
   ],
   "source": [
    "class Car:\n",
    "    color = 'black'\n",
    "    @staticmethod\n",
    "    def start():\n",
    "        print('Car Start...')\n",
    "    \n",
    "\n",
    "    @staticmethod\n",
    "    def stop():\n",
    "        print('Car stop...')\n",
    "    \n",
    "class ToyatoCar(Car): # child \n",
    "        def __init__(self,name):\n",
    "            self.name =name\n",
    "\n",
    "c1 = ToyatoCar('fortuner')\n",
    "print(c1.name)\n",
    "print(c1.color)"
   ]
  }
 ],
 "metadata": {
  "kernelspec": {
   "display_name": "Python 3",
   "language": "python",
   "name": "python3"
  },
  "language_info": {
   "codemirror_mode": {
    "name": "ipython",
    "version": 3
   },
   "file_extension": ".py",
   "mimetype": "text/x-python",
   "name": "python",
   "nbconvert_exporter": "python",
   "pygments_lexer": "ipython3",
   "version": "3.13.2"
  }
 },
 "nbformat": 4,
 "nbformat_minor": 5
}
