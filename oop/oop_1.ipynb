{
 "cells": [
  {
   "cell_type": "markdown",
   "id": "625baa0a",
   "metadata": {},
   "source": [
    "# Object Oriented Programming:\n",
    "To Map with Real World scenarios, we started using object in code \n",
    "this is called object oriented programming.\n",
    "\n",
    "## Class:\n",
    "Class is a Blueprint for creating object is called class.\n"
   ]
  },
  {
   "cell_type": "code",
   "execution_count": 4,
   "id": "e7fe29f7",
   "metadata": {},
   "outputs": [
    {
     "name": "stdout",
     "output_type": "stream",
     "text": [
      "Adnan\n",
      "Adnan\n"
     ]
    }
   ],
   "source": [
    "class Student:\n",
    "    name = 'Adnan'\n",
    "\n",
    "\n",
    "\n",
    "# creating object (instance)\n",
    "s1 = Student()\n",
    "s2 = Student()\n",
    "\n",
    "print(s1.name)\n",
    "print(s2.name)"
   ]
  },
  {
   "cell_type": "markdown",
   "id": "133bdcab",
   "metadata": {},
   "source": [
    "### Constructor:\n",
    "All classes have a function called __init__(), which is always executed when the object is being initaied.\n",
    "\n",
    "### Self: \n",
    "the self parameter is referance to the current instance of the class, and is used to access variable that belongs to the class.\n",
    "\n",
    "### Static Method:\n",
    "Methods that don't use the self parameter (work at class level).\n",
    "@ staticmethod --> decorator take function change the behavior back to the function.\n"
   ]
  },
  {
   "cell_type": "code",
   "execution_count": 19,
   "id": "6fd3aac5",
   "metadata": {},
   "outputs": [
    {
     "name": "stdout",
     "output_type": "stream",
     "text": [
      "Adnan 78\n",
      "welcome student, Adnan\n",
      "78\n"
     ]
    }
   ],
   "source": [
    "class Uni_Student:\n",
    "    college_name = 'islamia college' # class attribute\n",
    "\n",
    "    # parameterized constructor\n",
    "    def __init__(self, full_name, marks):\n",
    "        self.name = full_name  # create new variable in class name \n",
    "        self.marks = marks  # object attribute\n",
    "        #print('adding new students.....')\n",
    "\n",
    "    # Method\n",
    "    def welcome(self):\n",
    "        print(\"welcome student,\",self.name)\n",
    "    \n",
    "    def get_marks(self):\n",
    "        return self.marks\n",
    "\n",
    "\n",
    "\n",
    "s1 = Uni_Student('Adnan', 78)\n",
    "print(s1.name, s1.marks)\n",
    "s1.welcome()\n",
    "print(s1.get_marks())\n",
    "\n",
    "#s2 = Uni_Student('Fahad',67)\n",
    "#print(s2.name, s2.marks)\n",
    "\n",
    "#print(s2.college_name) # Class attribute \n",
    "#print(Uni_Student.college_name) # class attribute with class name"
   ]
  },
  {
   "cell_type": "code",
   "execution_count": 24,
   "id": "60c6259b",
   "metadata": {},
   "outputs": [
    {
     "name": "stdout",
     "output_type": "stream",
     "text": [
      "Fahad 56 67 56\n"
     ]
    },
    {
     "data": {
      "text/plain": [
       "59.666666666666664"
      ]
     },
     "execution_count": 24,
     "metadata": {},
     "output_type": "execute_result"
    }
   ],
   "source": [
    "# practice question\n",
    "\n",
    "class College_student:\n",
    "    # Constructor \n",
    "    def __init__(self,name,computer,maths,physics):\n",
    "        self.name = name\n",
    "        self.computer = computer\n",
    "        self.maths = maths\n",
    "        self.physics = physics\n",
    "    \n",
    "    def get_avg(self):\n",
    "        marks = (self.computer + self.maths + self.physics) / 3\n",
    "        return marks\n",
    "\n",
    "\n",
    "s1 = College_student('Fahad',56,67,56)\n",
    "print(s1.name,s1.computer, s1.maths, s1.physics)\n",
    "\n",
    "s1.get_avg()"
   ]
  }
 ],
 "metadata": {
  "kernelspec": {
   "display_name": "Python 3",
   "language": "python",
   "name": "python3"
  },
  "language_info": {
   "codemirror_mode": {
    "name": "ipython",
    "version": 3
   },
   "file_extension": ".py",
   "mimetype": "text/x-python",
   "name": "python",
   "nbconvert_exporter": "python",
   "pygments_lexer": "ipython3",
   "version": "3.13.2"
  }
 },
 "nbformat": 4,
 "nbformat_minor": 5
}
